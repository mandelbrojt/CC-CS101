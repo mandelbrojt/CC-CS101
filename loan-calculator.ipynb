{
 "cells": [
  {
   "cell_type": "markdown",
   "metadata": {},
   "source": [
    "Import required packages:"
   ]
  },
  {
   "cell_type": "code",
   "execution_count": 1,
   "metadata": {},
   "outputs": [],
   "source": [
    "from datetime import datetime\n",
    "from dateutil.relativedelta import relativedelta\n",
    "import pandas as pd"
   ]
  },
  {
   "cell_type": "markdown",
   "metadata": {},
   "source": [
    "Ask the user to input the loan terms:"
   ]
  },
  {
   "cell_type": "code",
   "execution_count": 26,
   "metadata": {},
   "outputs": [
    {
     "name": "stdout",
     "output_type": "stream",
     "text": [
      "\n",
      "\n",
      "\n",
      "\n"
     ]
    }
   ],
   "source": [
    "amount = float(input(\"How much money do you need to borrow?: \"))\n",
    "print()\n",
    "monthly_term = int(input(\"In how many months do you want to finish paying your loan?: \"))\n",
    "print()\n",
    "interest_rate = float(input(\"What's the annual interest rate they are charging you?\\nPlease enter your answer without the '%' symbol: \"))/100\n",
    "print()\n",
    "amortization_type = int(input(\"How would you like to pay each month?\\n1. I want to pay principal and interest each month.\\n2. I want to pay only interests each month.\\n3. I want to pay principal and interest at the end of the loan term.\\n Please input the option number (1, 2 or 3): \"))\n",
    "print()"
   ]
  },
  {
   "cell_type": "markdown",
   "metadata": {},
   "source": [
    "Create a class for each loan:"
   ]
  },
  {
   "cell_type": "code",
   "execution_count": 33,
   "metadata": {},
   "outputs": [],
   "source": [
    "class Loan:\n",
    "    def __init__(self, input_amount, input_monthly_term, input_interest_rate, input_amortization_type=1):\n",
    "        self.input_amount = amount\n",
    "        self.input_monthly_term = monthly_term\n",
    "        self.input_interest_rate = interest_rate\n",
    "        self.input_amortization_type = amortization_type\n",
    "    \n",
    "    # Give a description of the loan main parameters\n",
    "    def __repr__(self):\n",
    "        description = \"Your loan of {loan_amount} dollars will be paid in {term} months and \".format(loan_amount=amount, term=monthly_term)\n",
    "        if amortization_type == 1:\n",
    "            description += \"you will pay interest and principal in each month.\"\n",
    "        elif amortization_type == 2:\n",
    "            description += \"you will have to pay the interest each month.\\nThe principal will be paid in the last month of the term.\"\n",
    "        elif amortization_type == 3:\n",
    "            description += \"the interest and principal will be paid at maturity.\"\n",
    "        return description"
   ]
  },
  {
   "cell_type": "code",
   "execution_count": 34,
   "metadata": {},
   "outputs": [
    {
     "name": "stdout",
     "output_type": "stream",
     "text": [
      "Here is a brief description of your loan: \n",
      "\n",
      "Your loan of 18000.0 dollars will be paid in 6 months and the interest and principal will be paid at maturity.\n"
     ]
    }
   ],
   "source": [
    "print(\"Here is a brief description of your loan: \\n\")\n",
    "loan = Loan(amount, monthly_term, interest_rate, amortization_type)\n",
    "print(loan)"
   ]
  },
  {
   "cell_type": "markdown",
   "metadata": {},
   "source": [
    "Create each variable of the amortization schedule:"
   ]
  },
  {
   "cell_type": "code",
   "execution_count": 35,
   "metadata": {},
   "outputs": [
    {
     "name": "stdout",
     "output_type": "stream",
     "text": [
      "[1, 2, 3, 4, 5, 6]\n",
      "['2022-05-19', '2022-06-19', '2022-07-19', '2022-08-19', '2022-09-19', '2022-10-19']\n"
     ]
    }
   ],
   "source": [
    "# Use list comprehension to store each period number of the loan term\n",
    "periods = [i for i in range(1,loan.input_monthly_term+1)]\n",
    "print(periods)\n",
    "\n",
    "# Get the current date to use it as the initial date of the loan\n",
    "todays_date = datetime.today()\n",
    "\n",
    "# Iterate through each period and add its value as the number of months to increase to the initial date\n",
    "# Append each result as a string in the list comprehension\n",
    "dates = [(todays_date + relativedelta(months=period)).strftime(\"%Y-%m-%d\") for period in periods]\n",
    "print(dates)"
   ]
  },
  {
   "cell_type": "markdown",
   "metadata": {},
   "source": [
    "# Gradual Amortization  \n",
    "\n",
    "This type of amortization consists of making equal payments each period during the loan term.  \n",
    "\n",
    "- The principal payment increases each period.  \n",
    "\n",
    "- The interest payment is reduced each period."
   ]
  },
  {
   "cell_type": "code",
   "execution_count": 38,
   "metadata": {},
   "outputs": [],
   "source": [
    "# Calculations for principal and interest payments\n",
    "if loan.input_amortization_type == 1:\n",
    "    interest = []\n",
    "    principal = []\n",
    "    payments = [round((loan.input_amount * loan.input_interest_rate/12) / (1 - ((1 + loan.input_interest_rate/12) ** (-loan.input_monthly_term))),4) for i in range(1,loan.input_monthly_term+1)]\n",
    "    balance = []\n",
    "    \n",
    "    interest.append(round(loan.input_amount * loan.input_interest_rate/12,4))\n",
    "    principal.append(round(payments[0]-interest[0],4))\n",
    "    balance.append(round(loan.input_amount - principal[0],4))\n",
    "    \n",
    "    for i in range(5):\n",
    "        interest.append(round(balance[i] * loan.input_interest_rate/12,4))\n",
    "        principal.append(round(payments[i] - interest[i + 1],4))\n",
    "        balance.append(round(balance[i] - principal[i + 1],4))\n",
    "\n",
    "# Calculations for interest payment only\n",
    "elif loan.input_amortization_type == 2:\n",
    "    interest = []\n",
    "    principal = []\n",
    "    payments = []\n",
    "    balance = []\n",
    "    for period in periods:\n",
    "        interest.append(round((loan.input_amount * loan.input_interest_rate/12)))\n",
    "        if period == loan.input_monthly_term:\n",
    "            principal.append(loan.input_amount)\n",
    "            payments.append(round((loan.input_amount * loan.input_interest_rate/12) + loan.input_amount,2))\n",
    "            balance.append(0)\n",
    "        else:\n",
    "            principal.append(0)\n",
    "            payments.append(round(loan.input_amount * loan.input_interest_rate/12))\n",
    "            balance.append(loan.input_amount)\n",
    "\n",
    "# Calculations for payments at maturity\n",
    "elif loan.input_amortization_type == 3:\n",
    "    interest = []\n",
    "    principal = []\n",
    "    payments = []\n",
    "    balance = []\n",
    "    for period in periods:\n",
    "        if period == loan.input_monthly_term:\n",
    "            interest.append(loan.input_amount * loan.input_interest_rate/12)\n",
    "            principal.append(loan.input_amount)\n",
    "            payments.append(loan.input_amount + loan.input_amount * loan.input_interest_rate/12)\n",
    "            balance.append(0)\n",
    "        else:\n",
    "            interest.append(0)\n",
    "            principal.append(0)\n",
    "            payments.append(0)\n",
    "            balance.append(loan.input_amount)"
   ]
  },
  {
   "cell_type": "markdown",
   "metadata": {},
   "source": [
    "Create a dataframe:"
   ]
  },
  {
   "cell_type": "code",
   "execution_count": 37,
   "metadata": {},
   "outputs": [
    {
     "name": "stdout",
     "output_type": "stream",
     "text": [
      "   Period        Date  Interest  Principal  Total Payment  Balance\n",
      "0       1  2022-05-19       0.0        0.0            0.0  18000.0\n",
      "1       2  2022-06-19       0.0        0.0            0.0  18000.0\n",
      "2       3  2022-07-19       0.0        0.0            0.0  18000.0\n",
      "3       4  2022-08-19       0.0        0.0            0.0  18000.0\n",
      "4       5  2022-09-19       0.0        0.0            0.0  18000.0\n",
      "5       6  2022-10-19     510.0    18000.0        18510.0      0.0\n"
     ]
    }
   ],
   "source": [
    "# Create a dictionary to assign to each key its corresponding list\n",
    "amortization_dict = {'Period': periods, 'Date': dates, \n",
    "                     'Interest': interest, 'Principal': principal,\n",
    "                     'Total Payment': payments, 'Balance': balance}\n",
    "\n",
    "# Use the previous dictionary to create a dataframe\n",
    "amortization_df = pd.DataFrame(amortization_dict)\n",
    "print(amortization_df)"
   ]
  }
 ],
 "metadata": {
  "interpreter": {
   "hash": "aee8b7b246df8f9039afb4144a1f6fd8d2ca17a180786b69acc140d282b71a49"
  },
  "kernelspec": {
   "display_name": "Python 3.9.7 64-bit",
   "language": "python",
   "name": "python3"
  },
  "language_info": {
   "codemirror_mode": {
    "name": "ipython",
    "version": 3
   },
   "file_extension": ".py",
   "mimetype": "text/x-python",
   "name": "python",
   "nbconvert_exporter": "python",
   "pygments_lexer": "ipython3",
   "version": "3.9.7"
  },
  "orig_nbformat": 4
 },
 "nbformat": 4,
 "nbformat_minor": 2
}
