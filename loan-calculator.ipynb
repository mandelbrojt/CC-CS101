{
 "cells": [
  {
   "cell_type": "markdown",
   "metadata": {},
   "source": [
    "# User Inputs  "
   ]
  },
  {
   "cell_type": "markdown",
   "metadata": {},
   "source": [
    "## Ask the user for the loan parameters"
   ]
  },
  {
   "cell_type": "code",
   "execution_count": 3,
   "metadata": {},
   "outputs": [
    {
     "name": "stdout",
     "output_type": "stream",
     "text": [
      "\n",
      "\n",
      "\n",
      "\n"
     ]
    }
   ],
   "source": [
    "amount = float(input(\"How much money do you need to borrow?: \"))\n",
    "print()\n",
    "monthly_term = int(input(\"In how many months do you want to finish paying your loan?: \"))\n",
    "print()\n",
    "interest_rate = float(input(\"What's the annual interest rate they are charging you?\\nPlease enter your answer without the '%' symbol: \"))/100\n",
    "print()\n",
    "amortization_type = int(input(\"How would you like to pay each month?\\n1. I want to pay principal and interest each month.\\n2. I want to pay only interests each month.\\n3. I want to pay principal and interest at the end of the loan term.\\n Please input the option number (1, 2 or 3): \"))\n",
    "print()"
   ]
  },
  {
   "cell_type": "markdown",
   "metadata": {},
   "source": [
    "# Classes  "
   ]
  },
  {
   "cell_type": "markdown",
   "metadata": {},
   "source": [
    "## Create a class for loans"
   ]
  },
  {
   "cell_type": "code",
   "execution_count": 13,
   "metadata": {},
   "outputs": [],
   "source": [
    "class Loan:\n",
    "    def __init__(self, input_amount, input_monthly_term, input_interest_rate, input_amortization_type=1):\n",
    "        self.input_amount = amount\n",
    "        self.input_monthly_term = monthly_term\n",
    "        self.input_interest_rate = interest_rate\n",
    "        self.input_amortization_type = amortization_type\n",
    "    \n",
    "    # Give a description of the loan main parameters\n",
    "    def __repr__(self):\n",
    "        description = \"Your loan of {loan_amount} dollars will be paid in {term} months and \".format(loan_amount=amount, term=monthly_term)\n",
    "        if amortization_type == 1:\n",
    "            description += \"in each month you will have to pay interest and principal.\"\n",
    "        elif amortization_type == 2:\n",
    "            description += \"in each month you will have to pay the interest.\\nThe principal will be paid in the last month of the term.\"\n",
    "        elif amortization_type == 3:\n",
    "            description += \"the interest and principal will be paid at maturity.\"\n",
    "        return description"
   ]
  },
  {
   "cell_type": "code",
   "execution_count": 14,
   "metadata": {},
   "outputs": [
    {
     "name": "stdout",
     "output_type": "stream",
     "text": [
      "Your loan of 50000.0 dollars will be paid in 12 months and in each month you will have to pay interest and principal.\n"
     ]
    }
   ],
   "source": [
    "loan1 = Loan(amount, monthly_term, interest_rate, amortization_type)\n",
    "print(loan1)"
   ]
  }
 ],
 "metadata": {
  "interpreter": {
   "hash": "aee8b7b246df8f9039afb4144a1f6fd8d2ca17a180786b69acc140d282b71a49"
  },
  "kernelspec": {
   "display_name": "Python 3.9.7 64-bit",
   "language": "python",
   "name": "python3"
  },
  "language_info": {
   "codemirror_mode": {
    "name": "ipython",
    "version": 3
   },
   "file_extension": ".py",
   "mimetype": "text/x-python",
   "name": "python",
   "nbconvert_exporter": "python",
   "pygments_lexer": "ipython3",
   "version": "3.9.7"
  },
  "orig_nbformat": 4
 },
 "nbformat": 4,
 "nbformat_minor": 2
}
